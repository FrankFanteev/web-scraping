{
 "cells": [
  {
   "cell_type": "code",
   "execution_count": 11,
   "metadata": {
    "collapsed": true
   },
   "outputs": [],
   "source": [
    "#http://www.jeannicholashould.com/python-web-scraping-tutorial-for-craft-beers.html\n",
    "from urllib.request import urlopen\n",
    "from bs4 import BeautifulSoup\n",
    "import pandas as pd\n",
    "import re"
   ]
  },
  {
   "cell_type": "code",
   "execution_count": 12,
   "metadata": {
    "collapsed": true
   },
   "outputs": [],
   "source": [
    "#regex disypher: ^ - match any character not in the set, \\d - digit, $-end\n",
    "# Return the beer entry numerical identifier from the \"Entry\" column.\n",
    "def get_beer_id(cell_value):\n",
    "    r = re.match(\"^(\\d{1,4})\\.$\", cell_value)\n",
    "    if r and len(r.groups()) == 1:\n",
    "        beer_id = r.group(1)\n",
    "        return int(beer_id)\n",
    "    else:\n",
    "        return None\n",
    "    "
   ]
  },
  {
   "cell_type": "code",
   "execution_count": 13,
   "metadata": {
    "collapsed": true
   },
   "outputs": [],
   "source": [
    "#determines if row entry is a beer entry (by counting number of entries)\n",
    "def is_beer_entry(table_row):\n",
    "    row_cells = table_row.findAll(\"td\")\n",
    "    beer_id = get_beer_id(row_cells[0].text)\n",
    "    return(len(row_cells)==8 and beer_id)"
   ]
  },
  {
   "cell_type": "code",
   "execution_count": 14,
   "metadata": {
    "collapsed": false
   },
   "outputs": [],
   "source": [
    "def get_all_beers(html_soup):\n",
    "    beers = []\n",
    "    all_rows_in_html_page = html_soup.findAll(\"tr\")\n",
    "    for table_row in all_rows_in_html_page:\n",
    "        if is_beer_entry(table_row):\n",
    "            row_cells = table_row.findAll(\"td\")\n",
    "            beer_entry = {\n",
    "                \"id\": get_beer_id(row_cells[0].text),\n",
    "                \"name\": row_cells[1].text,\n",
    "                \"brewery_name\": row_cells[2].text,\n",
    "                \"brewery_location\": row_cells[3].text,\n",
    "                \"style\": row_cells[4].text,\n",
    "                \"size\": row_cells[5].text,\n",
    "                \"abv\": row_cells[6].text,    \n",
    "                \"ibu\": row_cells[7].text\n",
    "            }\n",
    "            beers.append(beer_entry)\n",
    "    return beers    "
   ]
  },
  {
   "cell_type": "code",
   "execution_count": 15,
   "metadata": {
    "collapsed": true
   },
   "outputs": [],
   "source": [
    "#request the page\n",
    "html = urlopen(\"http://craftcans.com/db.php?search=all&sort=beerid&ord=desc&view=text\")\n",
    "html_soup = BeautifulSoup(html, 'html.parser')\n",
    "beers_list = get_all_beers(html_soup)"
   ]
  },
  {
   "cell_type": "code",
   "execution_count": 16,
   "metadata": {
    "collapsed": false
   },
   "outputs": [
    {
     "data": {
      "text/html": [
       "<div>\n",
       "<table border=\"1\" class=\"dataframe\">\n",
       "  <thead>\n",
       "    <tr style=\"text-align: right;\">\n",
       "      <th></th>\n",
       "      <th>abv</th>\n",
       "      <th>brewery_location</th>\n",
       "      <th>brewery_name</th>\n",
       "      <th>ibu</th>\n",
       "      <th>id</th>\n",
       "      <th>name</th>\n",
       "      <th>size</th>\n",
       "      <th>style</th>\n",
       "    </tr>\n",
       "  </thead>\n",
       "  <tbody>\n",
       "    <tr>\n",
       "      <th>0</th>\n",
       "      <td>4.5%</td>\n",
       "      <td>Minneapolis, MN</td>\n",
       "      <td>NorthGate Brewing</td>\n",
       "      <td>50</td>\n",
       "      <td>2692</td>\n",
       "      <td>Get Together</td>\n",
       "      <td>16 oz.</td>\n",
       "      <td>American IPA</td>\n",
       "    </tr>\n",
       "    <tr>\n",
       "      <th>1</th>\n",
       "      <td>4.9%</td>\n",
       "      <td>Minneapolis, MN</td>\n",
       "      <td>NorthGate Brewing</td>\n",
       "      <td>26</td>\n",
       "      <td>2691</td>\n",
       "      <td>Maggie's Leap</td>\n",
       "      <td>16 oz.</td>\n",
       "      <td>Milk / Sweet Stout</td>\n",
       "    </tr>\n",
       "    <tr>\n",
       "      <th>2</th>\n",
       "      <td>4.8%</td>\n",
       "      <td>Minneapolis, MN</td>\n",
       "      <td>NorthGate Brewing</td>\n",
       "      <td>19</td>\n",
       "      <td>2690</td>\n",
       "      <td>Wall's End</td>\n",
       "      <td>16 oz.</td>\n",
       "      <td>English Brown Ale</td>\n",
       "    </tr>\n",
       "    <tr>\n",
       "      <th>3</th>\n",
       "      <td>6.0%</td>\n",
       "      <td>Minneapolis, MN</td>\n",
       "      <td>NorthGate Brewing</td>\n",
       "      <td>38</td>\n",
       "      <td>2689</td>\n",
       "      <td>Pumpion</td>\n",
       "      <td>16 oz.</td>\n",
       "      <td>Pumpkin Ale</td>\n",
       "    </tr>\n",
       "    <tr>\n",
       "      <th>4</th>\n",
       "      <td>6.0%</td>\n",
       "      <td>Minneapolis, MN</td>\n",
       "      <td>NorthGate Brewing</td>\n",
       "      <td>25</td>\n",
       "      <td>2688</td>\n",
       "      <td>Stronghold</td>\n",
       "      <td>16 oz.</td>\n",
       "      <td>American Porter</td>\n",
       "    </tr>\n",
       "  </tbody>\n",
       "</table>\n",
       "</div>"
      ],
      "text/plain": [
       "    abv brewery_location        brewery_name ibu    id           name    size  \\\n",
       "0  4.5%  Minneapolis, MN  NorthGate Brewing   50  2692   Get Together  16 oz.   \n",
       "1  4.9%  Minneapolis, MN  NorthGate Brewing   26  2691  Maggie's Leap  16 oz.   \n",
       "2  4.8%  Minneapolis, MN  NorthGate Brewing   19  2690     Wall's End  16 oz.   \n",
       "3  6.0%  Minneapolis, MN  NorthGate Brewing   38  2689        Pumpion  16 oz.   \n",
       "4  6.0%  Minneapolis, MN  NorthGate Brewing   25  2688     Stronghold  16 oz.   \n",
       "\n",
       "                style  \n",
       "0        American IPA  \n",
       "1  Milk / Sweet Stout  \n",
       "2   English Brown Ale  \n",
       "3         Pumpkin Ale  \n",
       "4     American Porter  "
      ]
     },
     "execution_count": 16,
     "metadata": {},
     "output_type": "execute_result"
    }
   ],
   "source": [
    "df = pd.DataFrame(beers_list)\n",
    "df.head(5)"
   ]
  },
  {
   "cell_type": "code",
   "execution_count": 22,
   "metadata": {
    "collapsed": false
   },
   "outputs": [
    {
     "data": {
      "text/html": [
       "<div>\n",
       "<table border=\"1\" class=\"dataframe\">\n",
       "  <thead>\n",
       "    <tr style=\"text-align: right;\">\n",
       "      <th></th>\n",
       "      <th>brewery_location</th>\n",
       "      <th>brewery_name</th>\n",
       "      <th>id</th>\n",
       "    </tr>\n",
       "  </thead>\n",
       "  <tbody>\n",
       "    <tr>\n",
       "      <th>0</th>\n",
       "      <td>Minneapolis, MN</td>\n",
       "      <td>NorthGate Brewing</td>\n",
       "      <td>0</td>\n",
       "    </tr>\n",
       "    <tr>\n",
       "      <th>1</th>\n",
       "      <td>Louisville, KY</td>\n",
       "      <td>Against the Grain Brewery</td>\n",
       "      <td>1</td>\n",
       "    </tr>\n",
       "    <tr>\n",
       "      <th>2</th>\n",
       "      <td>Framingham, MA</td>\n",
       "      <td>Jack's Abby Craft Lagers</td>\n",
       "      <td>2</td>\n",
       "    </tr>\n",
       "    <tr>\n",
       "      <th>3</th>\n",
       "      <td>San Diego, CA</td>\n",
       "      <td>Mike Hess Brewing Company</td>\n",
       "      <td>3</td>\n",
       "    </tr>\n",
       "    <tr>\n",
       "      <th>4</th>\n",
       "      <td>San Francisco, CA</td>\n",
       "      <td>Fort Point Beer Company</td>\n",
       "      <td>4</td>\n",
       "    </tr>\n",
       "  </tbody>\n",
       "</table>\n",
       "</div>"
      ],
      "text/plain": [
       "    brewery_location               brewery_name  id\n",
       "0    Minneapolis, MN         NorthGate Brewing    0\n",
       "1     Louisville, KY  Against the Grain Brewery   1\n",
       "2     Framingham, MA   Jack's Abby Craft Lagers   2\n",
       "3      San Diego, CA  Mike Hess Brewing Company   3\n",
       "4  San Francisco, CA    Fort Point Beer Company   4"
      ]
     },
     "execution_count": 22,
     "metadata": {},
     "output_type": "execute_result"
    }
   ],
   "source": [
    "#create a sepparate breweries data to create tidy data\n",
    "breweries = df[['brewery_location', 'brewery_name']]\n",
    "breweries = breweries.drop_duplicates()\n",
    "breweries = breweries.reset_index(drop=True)\n",
    "breweries[\"id\"] = breweries.index\n",
    "breweries.head(5)"
   ]
  },
  {
   "cell_type": "code",
   "execution_count": 27,
   "metadata": {
    "collapsed": false
   },
   "outputs": [
    {
     "data": {
      "text/html": [
       "<div>\n",
       "<table border=\"1\" class=\"dataframe\">\n",
       "  <thead>\n",
       "    <tr style=\"text-align: right;\">\n",
       "      <th></th>\n",
       "      <th>abv</th>\n",
       "      <th>ibu</th>\n",
       "      <th>id</th>\n",
       "      <th>name</th>\n",
       "      <th>size</th>\n",
       "      <th>style</th>\n",
       "      <th>brewery_id</th>\n",
       "    </tr>\n",
       "  </thead>\n",
       "  <tbody>\n",
       "    <tr>\n",
       "      <th>0</th>\n",
       "      <td>5.0%</td>\n",
       "      <td>N/A</td>\n",
       "      <td>1436</td>\n",
       "      <td>Pub Beer</td>\n",
       "      <td>12 oz.</td>\n",
       "      <td>American Pale Lager</td>\n",
       "      <td>408</td>\n",
       "    </tr>\n",
       "    <tr>\n",
       "      <th>1</th>\n",
       "      <td>6.6%</td>\n",
       "      <td>N/A</td>\n",
       "      <td>2265</td>\n",
       "      <td>Devil's Cup</td>\n",
       "      <td>12 oz.</td>\n",
       "      <td>American Pale Ale (APA)</td>\n",
       "      <td>177</td>\n",
       "    </tr>\n",
       "    <tr>\n",
       "      <th>2</th>\n",
       "      <td>7.1%</td>\n",
       "      <td>N/A</td>\n",
       "      <td>2264</td>\n",
       "      <td>Rise of the Phoenix</td>\n",
       "      <td>12 oz.</td>\n",
       "      <td>American IPA</td>\n",
       "      <td>177</td>\n",
       "    </tr>\n",
       "    <tr>\n",
       "      <th>3</th>\n",
       "      <td>9.0%</td>\n",
       "      <td>N/A</td>\n",
       "      <td>2263</td>\n",
       "      <td>Sinister</td>\n",
       "      <td>12 oz.</td>\n",
       "      <td>American Double / Imperial IPA</td>\n",
       "      <td>177</td>\n",
       "    </tr>\n",
       "    <tr>\n",
       "      <th>4</th>\n",
       "      <td>7.5%</td>\n",
       "      <td>N/A</td>\n",
       "      <td>2262</td>\n",
       "      <td>Sex and Candy</td>\n",
       "      <td>12 oz.</td>\n",
       "      <td>American IPA</td>\n",
       "      <td>177</td>\n",
       "    </tr>\n",
       "  </tbody>\n",
       "</table>\n",
       "</div>"
      ],
      "text/plain": [
       "    abv  ibu    id                 name    size  \\\n",
       "0  5.0%  N/A  1436             Pub Beer  12 oz.   \n",
       "1  6.6%  N/A  2265          Devil's Cup  12 oz.   \n",
       "2  7.1%  N/A  2264  Rise of the Phoenix  12 oz.   \n",
       "3  9.0%  N/A  2263             Sinister  12 oz.   \n",
       "4  7.5%  N/A  2262        Sex and Candy  12 oz.   \n",
       "\n",
       "                            style  brewery_id  \n",
       "0             American Pale Lager         408  \n",
       "1         American Pale Ale (APA)         177  \n",
       "2                    American IPA         177  \n",
       "3  American Double / Imperial IPA         177  \n",
       "4                    American IPA         177  "
      ]
     },
     "execution_count": 27,
     "metadata": {},
     "output_type": "execute_result"
    }
   ],
   "source": [
    "beers = pd.merge(df,\n",
    "                 breweries,\n",
    "                 left_on=['brewery_name','brewery_location'],\n",
    "                 right_on=['brewery_name','brewery_location'],\n",
    "                 sort = True, \n",
    "                 suffixes =('_beer', '_brewery'))\n",
    "\n",
    "beers = beers[[\"abv\", \"ibu\", \"id_beer\",\n",
    "               \"name\", \"size\", \"style\", \"id_brewery\"]]\n",
    "beers_column_rename = {\n",
    "    'id_beer': 'id',\n",
    "    'id_brewery': 'brewery_id'\n",
    "}\n",
    "beers.rename(inplace=True, columns = beers_column_rename)\n",
    "beers.head(5)"
   ]
  },
  {
   "cell_type": "code",
   "execution_count": null,
   "metadata": {
    "collapsed": true
   },
   "outputs": [],
   "source": []
  }
 ],
 "metadata": {
  "anaconda-cloud": {},
  "kernelspec": {
   "display_name": "Python [default]",
   "language": "python",
   "name": "python3"
  },
  "language_info": {
   "codemirror_mode": {
    "name": "ipython",
    "version": 3
   },
   "file_extension": ".py",
   "mimetype": "text/x-python",
   "name": "python",
   "nbconvert_exporter": "python",
   "pygments_lexer": "ipython3",
   "version": "3.5.2"
  }
 },
 "nbformat": 4,
 "nbformat_minor": 1
}
